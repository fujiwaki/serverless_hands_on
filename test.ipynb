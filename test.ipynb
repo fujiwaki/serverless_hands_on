{
 "cells": [
  {
   "cell_type": "code",
   "execution_count": null,
   "metadata": {},
   "outputs": [],
   "source": [
    "from datetime import datetime, UTC\n",
    "\n",
    "dt = datetime(2020, 1, 1, 1, 1, 1, 1, tzinfo=UTC)"
   ]
  }
 ],
 "metadata": {
  "language_info": {
   "name": "python"
  }
 },
 "nbformat": 4,
 "nbformat_minor": 2
}
